{
  "nbformat": 4,
  "nbformat_minor": 0,
  "metadata": {
    "colab": {
      "provenance": [],
      "authorship_tag": "ABX9TyNL8MWqhFG8zgoqvYwmQnjr",
      "include_colab_link": true
    },
    "kernelspec": {
      "name": "python3",
      "display_name": "Python 3"
    },
    "language_info": {
      "name": "python"
    }
  },
  "cells": [
    {
      "cell_type": "markdown",
      "metadata": {
        "id": "view-in-github",
        "colab_type": "text"
      },
      "source": [
        "<a href=\"https://colab.research.google.com/github/sonu-coder/Spark-Playground/blob/main/SparkPlayground.ipynb\" target=\"_parent\"><img src=\"https://colab.research.google.com/assets/colab-badge.svg\" alt=\"Open In Colab\"/></a>"
      ]
    },
    {
      "cell_type": "code",
      "execution_count": 5,
      "metadata": {
        "id": "26xrA3LD9Hz9"
      },
      "outputs": [],
      "source": [
        "!apt-get install openjdk-8-jdk-headless -qq > /dev/null\n",
        "!wget -q https://dlcdn.apache.org/spark/spark-3.5.1/spark-3.5.1-bin-hadoop3.tgz\n",
        "!tar xf spark-3.5.1-bin-hadoop3.tgz\n",
        "!pip install -q findspark"
      ]
    },
    {
      "cell_type": "code",
      "source": [
        "import os\n",
        "os.environ[\"JAVA_HOME\"] = \"/usr/lib/jvm/java-8-openjdk-amd64\"\n",
        "os.environ[\"SPARK_HOME\"] = \"/content/spark-3.5.1-bin-hadoop3\""
      ],
      "metadata": {
        "id": "7PQQF47P97cu"
      },
      "execution_count": 2,
      "outputs": []
    },
    {
      "cell_type": "code",
      "source": [
        "import findspark\n",
        "findspark.init()"
      ],
      "metadata": {
        "id": "RaU-R07K9z0c"
      },
      "execution_count": 6,
      "outputs": []
    },
    {
      "cell_type": "code",
      "source": [
        "from pyspark.sql import SparkSession,Window\n",
        "from pyspark.sql.functions import col,broadcast,rank,dense_rank,row_number,desc, monotonically_increasing_id as mid"
      ],
      "metadata": {
        "id": "y99WBiqG-DVS"
      },
      "execution_count": 75,
      "outputs": []
    },
    {
      "cell_type": "code",
      "source": [
        "spark = SparkSession.builder.getOrCreate()"
      ],
      "metadata": {
        "id": "SiaCvB0O-Io3"
      },
      "execution_count": 8,
      "outputs": []
    },
    {
      "cell_type": "code",
      "source": [
        "df1 = spark.read.format('csv').option('header','true')\\\n",
        "                              .option('inferSchema','true')\\\n",
        "                              .load('/content/sample_data/california_housing_train.csv')\n",
        "df2 = spark.read.csv(header=True,inferSchema=True,path='/content/sample_data/california_housing_test.csv')"
      ],
      "metadata": {
        "id": "P9ggNIxu_3Ok"
      },
      "execution_count": 26,
      "outputs": []
    },
    {
      "cell_type": "code",
      "source": [
        "df1 = df1.withColumn('Id',mid()+1)\n",
        "df1 = df1.drop('longitude','latitude','total_rooms','population')\n",
        "df2 = df2.select('longitude','latitude','total_rooms','population',(mid()+1).alias('Id'))"
      ],
      "metadata": {
        "id": "r2Z2SAPcCbY2"
      },
      "execution_count": 39,
      "outputs": []
    },
    {
      "cell_type": "code",
      "source": [
        "df_joined = df1.alias('df1').join(broadcast(df2.alias('df2')),df1.Id==df2.Id,'Inner').drop(df2.Id)"
      ],
      "metadata": {
        "id": "6wxd41-7H25h"
      },
      "execution_count": 60,
      "outputs": []
    },
    {
      "cell_type": "code",
      "source": [
        "\n",
        "df_joined = df_joined.select('Id',\n",
        "                'housing_median_age',\n",
        "                'total_bedrooms',\n",
        "                'households',\n",
        "                'median_income',\n",
        "                'median_house_value',\n",
        "                'longitude',\n",
        "                'latitude',\n",
        "                'total_rooms',\n",
        "                'population')"
      ],
      "metadata": {
        "id": "L8j0YdifMqMz"
      },
      "execution_count": null,
      "outputs": []
    },
    {
      "cell_type": "code",
      "source": [
        "window_spec = Window.orderBy(desc(col('population')))"
      ],
      "metadata": {
        "id": "psVOQbqFRCD1"
      },
      "execution_count": 86,
      "outputs": []
    },
    {
      "cell_type": "code",
      "source": [
        "df_window = df_joined.withColumn('rank',dense_rank().over(window_spec)).show()"
      ],
      "metadata": {
        "id": "XiJxlDlpST08",
        "outputId": "bf6b56eb-12f1-4644-938e-2be537cab80c",
        "colab": {
          "base_uri": "https://localhost:8080/"
        }
      },
      "execution_count": 87,
      "outputs": [
        {
          "output_type": "stream",
          "name": "stdout",
          "text": [
            "+----+------------------+--------------+----------+-------------+------------------+---------+--------+-----------+----------+----+\n",
            "|  Id|housing_median_age|total_bedrooms|households|median_income|median_house_value|longitude|latitude|total_rooms|population|rank|\n",
            "+----+------------------+--------------+----------+-------------+------------------+---------+--------+-----------+----------+----+\n",
            "| 979|              38.0|         206.0|     182.0|       1.8333|          127100.0|  -121.53|   38.48|    27870.0|   11935.0|   1|\n",
            "|2187|              17.0|        1208.0|    1088.0|       2.4053|          105200.0|  -116.14|   34.45|     8796.0|   11139.0|   2|\n",
            "|1147|              52.0|         389.0|     424.0|         3.79|          163400.0|  -117.27|   33.15|    23915.0|   10877.0|   3|\n",
            "|2430|               4.0|         644.0|     597.0|       5.2497|          215000.0|   -117.2|   33.58|    30450.0|    9419.0|   4|\n",
            "|1598|              16.0|         521.0|     472.0|       2.5625|          129400.0|  -117.12|   33.49|    21988.0|    8824.0|   5|\n",
            "| 322|              13.0|         491.0|     503.0|       5.7652|          259900.0|  -121.73|   37.68|    20354.0|    8768.0|   6|\n",
            "|  34|              19.0|         171.0|     173.0|       3.3182|          113800.0|  -118.08|   34.55|    16181.0|    8152.0|   7|\n",
            "|2015|               8.0|         887.0|     846.0|       3.0204|           93100.0|  -117.22|   32.86|    16289.0|    7604.0|   8|\n",
            "| 948|              15.0|         152.0|     164.0|         2.15|          131300.0|  -117.23|   33.91|    11654.0|    7596.0|   9|\n",
            "|1284|              15.0|         316.0|     298.0|       5.3526|          129800.0|  -117.18|   32.92|    15025.0|    7560.0|  10|\n",
            "|1564|              12.0|         356.0|     323.0|        3.125|          117200.0|  -118.44|   33.98|    18132.0|    7431.0|  11|\n",
            "|1555|              26.0|         603.0|     532.0|       2.0388|           80400.0|  -117.71|   34.02|    12689.0|    7343.0|  12|\n",
            "| 888|              16.0|         228.0|     224.0|       6.5853|          248400.0|  -117.04|    32.7|     9311.0|    7302.0|  13|\n",
            "| 901|              33.0|         673.0|     666.0|       3.5078|          126500.0|  -117.22|   32.95|    18123.0|    7301.0|  14|\n",
            "|2617|              10.0|         695.0|     663.0|       4.2054|          159900.0|  -121.42|   38.49|    13180.0|    7235.0|  15|\n",
            "|1353|               3.0|        2248.0|    1920.0|       6.2178|          173900.0|  -121.87|   37.42|    12128.0|    6810.0|  16|\n",
            "|2322|              34.0|         296.0|     328.0|       3.6979|           99600.0|  -121.15|   38.69|      240.0|    6675.0|  17|\n",
            "| 977|              31.0|         549.0|     538.0|        2.052|          108900.0|  -117.58|   34.11|    11635.0|    6443.0|  18|\n",
            "|2925|              16.0|         429.0|     428.0|       7.0592|          288200.0|  -117.23|   32.88|     5566.0|    6303.0|  19|\n",
            "|1977|              44.0|         273.0|     281.0|       3.2292|           86100.0|   -117.7|   33.48|    16590.0|    6223.0|  20|\n",
            "+----+------------------+--------------+----------+-------------+------------------+---------+--------+-----------+----------+----+\n",
            "only showing top 20 rows\n",
            "\n"
          ]
        }
      ]
    }
  ]
}